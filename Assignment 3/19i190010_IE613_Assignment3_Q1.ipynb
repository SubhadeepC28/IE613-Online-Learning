{
  "nbformat": 4,
  "nbformat_minor": 0,
  "metadata": {
    "colab": {
      "name": "19i190010_IE613_Assignment3_Q1.ipynb",
      "provenance": [],
      "collapsed_sections": []
    },
    "kernelspec": {
      "name": "python3",
      "display_name": "Python 3"
    },
    "language_info": {
      "name": "python"
    }
  },
  "cells": [
    {
      "cell_type": "markdown",
      "metadata": {
        "id": "kaU4rry4q5pj"
      },
      "source": [
        "# **Name:** Subhadeep Chaudhuri | **Roll no.** : 19i190010"
      ]
    },
    {
      "cell_type": "markdown",
      "metadata": {
        "id": "6lieTwiU5nJ2"
      },
      "source": [
        "## **Question:**\n",
        "Implement and compare different algorithms for sampling the arms of a\n",
        "stochastic multi-armed bandit. Each arm provides i.i.d. rewards from a Bernoulli distribution with given means. The objective is to minimise the regret. The algorithms you will implement are epsilon-greedy exploration, UCB, KL-UCB, Thompson Sampling.\n",
        "\n",
        "For epsilon greedy, you can choose $\\epsilon = 0.05, 0.1, 0.2, 0.3, 0.4, 0.5, 0.7$"
      ]
    },
    {
      "cell_type": "code",
      "metadata": {
        "id": "V7Zk_JOr5hI3"
      },
      "source": [
        "###########################################\n",
        "## Importing the necessary packages\n",
        "###########################################\n",
        "import numpy as np\n",
        "import pandas as pd\n",
        "import math\n",
        "import matplotlib.pyplot as plt\n",
        "import seaborn as sns\n",
        "sns.set_style('whitegrid')\n",
        "import scipy.stats as ss\n",
        "import copy\n",
        "from tqdm import tqdm\n",
        "from collections import Counter\n",
        "import warnings\n",
        "warnings.filterwarnings(\"ignore\")"
      ],
      "execution_count": 1,
      "outputs": []
    },
    {
      "cell_type": "code",
      "metadata": {
        "id": "sUVNG_JOF5Vy"
      },
      "source": [
        "###############################\n",
        "## Different arms\n",
        "###############################\n",
        "arm1 = 0\n",
        "arm2 = 1\n",
        "arm3 = 2\n",
        "arm4 = 3\n",
        "arm5 = 4\n",
        "\n",
        "###############################\n",
        "## Different algorithm types\n",
        "###############################\n",
        "EPS = 6\n",
        "UCB = 7\n",
        "KL_UCB = 8\n",
        "TS = 9"
      ],
      "execution_count": 2,
      "outputs": []
    },
    {
      "cell_type": "code",
      "metadata": {
        "id": "E7nE7t-U5G5c"
      },
      "source": [
        "#####################################################################\n",
        "## Function to generate reward for each arm depending on arm number\n",
        "#####################################################################\n",
        "def reward_gen(arm):\n",
        "    if arm == arm1:\n",
        "        return np.random.binomial(1, 0.4)\n",
        "    elif arm == arm2:\n",
        "        return np.random.binomial(1, 0.3)\n",
        "    elif arm == arm3:\n",
        "        return np.random.binomial(1, 0.5)\n",
        "    elif arm == arm4:\n",
        "        return np.random.binomial(1, 0.2)\n",
        "    elif arm == arm5:\n",
        "        return np.random.binomial(1, 0.1) \n",
        "    else:\n",
        "        raise ValueError(\"Incorrect input for Arm number. Should be of form 'arm__' with __ = 1(1)5\" )"
      ],
      "execution_count": 3,
      "outputs": []
    },
    {
      "cell_type": "markdown",
      "metadata": {
        "id": "IdtANBwHmkEm"
      },
      "source": [
        "### **Algorithm 1**: $\\epsilon$-greedy algorithm"
      ]
    },
    {
      "cell_type": "code",
      "metadata": {
        "id": "DmDFkjCZVA1Q"
      },
      "source": [
        "##########################################################################################\n",
        "## Function to define the epsilon-greedy algorithm\n",
        "## Input: No of arms K, horizon, epsilon value, array containing all the given arm means\n",
        "##########################################################################################\n",
        "def eps_greedy(K, horizon, arm_means, epsilon):\n",
        "    reward_array = np.zeros(K)\n",
        "    count_array = np.zeros(K)\n",
        "    regret_array_final = []\n",
        "    total_expected_reward = 0\n",
        "    for i in range(K):\n",
        "        reward_array[i] += reward_gen(i)\n",
        "        count_array[i] += 1\n",
        "        best_arm_reward = max(arm_means)*(i+1)\n",
        "        total_expected_reward += arm_means[i]\n",
        "        regret = best_arm_reward - total_expected_reward\n",
        "        regret_array_final.append(regret)\n",
        "        # print(f\"Round: {i+1}, chosen arm = {i} Best: {best_arm_reward}  exp: {total_expected_reward} Regret: {regret}\")\n",
        "    \n",
        "    round = K+1\n",
        "    while round <= horizon:\n",
        "        unif = np.random.uniform()\n",
        "        if unif <= epsilon:\n",
        "            chosen_arm = np.random.choice(K)\n",
        "            reward_array[chosen_arm] += reward_gen(chosen_arm)\n",
        "            count_array[chosen_arm] += 1\n",
        "        else:\n",
        "            chosen_arm = np.argmax(np.divide(reward_array, count_array))\n",
        "            reward_array[chosen_arm] += reward_gen(chosen_arm)\n",
        "            count_array[chosen_arm] += 1\n",
        "        \n",
        "        best_arm_reward = max(arm_means)*round \n",
        "        total_expected_reward += arm_means[chosen_arm]\n",
        "        \n",
        "        regret = best_arm_reward - total_expected_reward\n",
        "        regret_array_final.append(regret)\n",
        "        # print(f\"Round: {round}, chosen arm = {chosen_arm} Best: {best_arm_reward}  exp: {total_expected_reward} Regret: {regret}\")\n",
        "        round += 1\n",
        "\n",
        "    return regret_array_final, count_array"
      ],
      "execution_count": 4,
      "outputs": []
    },
    {
      "cell_type": "markdown",
      "metadata": {
        "id": "yW0e4UlVmuGj"
      },
      "source": [
        "### **Algorithm 2**: UCB algorithm"
      ]
    },
    {
      "cell_type": "code",
      "metadata": {
        "id": "uvH2m1QK1gfg"
      },
      "source": [
        "###############################################################################\n",
        "## Function to define the UCB algorithm\n",
        "## Input: No of arms K, horizon, array containing all the given arm means\n",
        "###############################################################################\n",
        "def UCB(K, horizon, arm_means):\n",
        "    reward_array = np.zeros(K)\n",
        "    count_array = np.zeros(K)\n",
        "    regret_array_final = []\n",
        "    total_expected_reward = 0\n",
        "    for i in range(K):\n",
        "        reward_array[i] += reward_gen(i)\n",
        "        count_array[i] += 1\n",
        "        best_arm_reward = max(arm_means)*(i+1)\n",
        "        total_expected_reward += arm_means[i]\n",
        "        regret = best_arm_reward - total_expected_reward\n",
        "        regret_array_final.append(regret)\n",
        "    \n",
        "    round = K+1\n",
        "    while round <= horizon:\n",
        "        mu_hat = np.divide(reward_array, count_array)\n",
        "        ucb_bounds = mu_hat + np.sqrt(np.divide(2*np.log(round), count_array))\n",
        "        chosen_arm = np.argmax(ucb_bounds)\n",
        "        \n",
        "        reward_array[chosen_arm] += reward_gen(chosen_arm)\n",
        "        count_array[chosen_arm] += 1\n",
        "        best_arm_reward = max(arm_means)*round \n",
        "        total_expected_reward += arm_means[chosen_arm]\n",
        "        \n",
        "        regret = best_arm_reward - total_expected_reward\n",
        "        regret_array_final.append(regret)\n",
        "\n",
        "        round += 1\n",
        "\n",
        "    return regret_array_final, count_array"
      ],
      "execution_count": 5,
      "outputs": []
    },
    {
      "cell_type": "markdown",
      "metadata": {
        "id": "8tPbLgDw6CoV"
      },
      "source": [
        "### **Algorithm 3**: KL-UCB algorithm"
      ]
    },
    {
      "cell_type": "code",
      "metadata": {
        "id": "QXLUcqKD-9hx"
      },
      "source": [
        "###############################################\n",
        "## Function to calculate the relative entropy\n",
        "## Input: p, q\n",
        "###############################################\n",
        "def rel_entropy(p, q):\n",
        "    if (p == 0) and  (q > 0) and (q < 1):\n",
        "        return np.log(1/(1-q))\n",
        "    elif (p == 1) and  (q > 0) and (q < 1):\n",
        "        return np.log(1/q)\n",
        "    elif (q == 0) and (p == 0):\n",
        "        return 0\n",
        "    elif (q == 0) and (p != 0):\n",
        "        return np.inf\n",
        "    elif (q == 1) and (p == 1):\n",
        "        return 0\n",
        "    elif (q == 1) and (p != 1):\n",
        "        return np.inf        \n",
        "    else:\n",
        "        return p*np.log(p/q) + (1-p)*np.log((1-p)/(1-q))\n",
        "\n",
        "####################################################################\n",
        "## Function to calcalate the upper confidence bound in KL-UCB algo\n",
        "####################################################################\n",
        "def kl_ucb_bound(t, count, mu):\n",
        "    c = 3\n",
        "    delta = 1e-2\n",
        "    q_max = []\n",
        "    rhs = np.log(t) + c*np.log(np.log(t))\n",
        "    lhs = np.zeros(len(count))\n",
        "    for i in range(len(count)):\n",
        "        q = mu[i]\n",
        "        lhs[i] = count[i]*rel_entropy(mu[i], q)\n",
        "        while (lhs[i] <= rhs) and (q <= 1):\n",
        "            q = q + delta\n",
        "            lhs[i] = count[i]*rel_entropy(mu[i], q)\n",
        "        q_max.append(q)\n",
        "    return q_max\n",
        "    \n",
        "\n",
        "#############################################################################\n",
        "## Function to define the KL-UCB algorithm\n",
        "## Input: No of arms K, horizon, array containing all the given arm means\n",
        "#############################################################################\n",
        "def KL_UCB_algo(K, horizon, arm_means):\n",
        "    reward_array = np.zeros(K)\n",
        "    count_array = np.zeros(K)\n",
        "    regret_array_final = []\n",
        "    total_expected_reward = 0\n",
        "    for i in range(K):\n",
        "        reward_array[i] += reward_gen(i)\n",
        "        count_array[i] += 1\n",
        "        best_arm_reward = max(arm_means)*(i+1)\n",
        "        total_expected_reward += arm_means[i]\n",
        "        regret = best_arm_reward - total_expected_reward\n",
        "        regret_array_final.append(regret)\n",
        "    \n",
        "    round = K+1\n",
        "    while round <= horizon:\n",
        "        mu_hat = np.divide(reward_array, count_array)\n",
        "        bounds = kl_ucb_bound(round, count_array, mu_hat)\n",
        "        chosen_arm = np.argmax(bounds)\n",
        "        \n",
        "        reward_array[chosen_arm] += reward_gen(chosen_arm)\n",
        "        count_array[chosen_arm] += 1\n",
        "        best_arm_reward = max(arm_means)*round \n",
        "        total_expected_reward += arm_means[chosen_arm]\n",
        "        \n",
        "        regret = best_arm_reward - total_expected_reward\n",
        "        regret_array_final.append(regret)\n",
        "\n",
        "        round += 1\n",
        "\n",
        "    return regret_array_final, count_array"
      ],
      "execution_count": 6,
      "outputs": []
    },
    {
      "cell_type": "markdown",
      "metadata": {
        "id": "nL9CXfraKZAw"
      },
      "source": [
        "### **Algorithm 4**: Thompson Sampling algorithm"
      ]
    },
    {
      "cell_type": "code",
      "metadata": {
        "id": "1rrNfgOaKcHz"
      },
      "source": [
        "##########################################################################################\n",
        "## Function to define the Thompson Sampling algorithm\n",
        "## Input: No of arms K, horizon, array containing all the given arm means\n",
        "##########################################################################################\n",
        "def thompson(K, horizon, arm_means):\n",
        "    S = np.zeros(K)\n",
        "    F = np.zeros(K)\n",
        "    theta = np.zeros(K)\n",
        "    count_array = np.zeros(K)\n",
        "    regret_array_final = []\n",
        "    total_expected_reward = 0\n",
        "    round = 1\n",
        "    while round <= horizon:\n",
        "        for i in range(K):\n",
        "            theta[i] = np.random.beta(S[i] + 1, F[i] + 1)\n",
        "        chosen_arm = np.argmax(theta)\n",
        "        reward = reward_gen(chosen_arm)\n",
        "        count_array[chosen_arm] += 1\n",
        "        if reward == 1:\n",
        "            S[chosen_arm] += 1\n",
        "        else:\n",
        "            F[chosen_arm] += 1\n",
        "        best_arm_reward = max(arm_means)*round \n",
        "        total_expected_reward += arm_means[chosen_arm]\n",
        "        \n",
        "        regret = best_arm_reward - total_expected_reward\n",
        "        regret_array_final.append(regret)\n",
        "\n",
        "        round += 1\n",
        "\n",
        "    return regret_array_final, count_array"
      ],
      "execution_count": 7,
      "outputs": []
    },
    {
      "cell_type": "markdown",
      "metadata": {
        "id": "yTBWCOi_8zzh"
      },
      "source": [
        "### **Defining a function that will average out the results over multiple runs**\n",
        "- Input: \n",
        "> - Number of runs: runs\n",
        "> - Algorithm type: algo_type\n",
        "> - Extra arguments depending on the chosen algorithm type: *args \n",
        "- Output: \n",
        "> - Average regret over all the runs in each round\n",
        "> - Deviation over the multiple runs (will be used to plot the error bars or CI)\n",
        "> - Average number of pulls of each arm "
      ]
    },
    {
      "cell_type": "code",
      "metadata": {
        "id": "O5rwPRn3FavK"
      },
      "source": [
        "####################################################################################\n",
        "## Method to call the different algorithms over multiple runs\n",
        "## Algorithm choices: epsilon-greedy exploration, UCB, KL-UCB, Thompson Sampling\n",
        "####################################################################################\n",
        "\n",
        "def algo_over_runs(runs, algo_type, K, horizon, arm_means, *args):\n",
        "\n",
        "    ## Checking the validity of the arguments required in eps-greedy algorithm\n",
        "    #################################################################################\n",
        "    if algo_type == EPS:\n",
        "        if args is None:\n",
        "            err_msg = 'Arguments are missing. Check again!'\n",
        "            raise ValueError(err_msg)\n",
        "        else:\n",
        "            epsilon = args[0]\n",
        "\n",
        "\n",
        "    ## Storing the regret obtained for each run in an array and then averaging out\n",
        "    ###############################################################################\n",
        "    regret_array = [_ for i in range(runs)]\n",
        "    count_array = [_ for i in range(runs)]\n",
        "    regret_error = []\n",
        "    for i in range(runs):\n",
        "        if algo_type == EPS:\n",
        "            regret_array[i], count_array[i] = eps_greedy(K, horizon, arm_means, epsilon)      \n",
        "        elif algo_type == UCB:\n",
        "            regret_array[i], count_array[i] = UCB(K, horizon, arm_means) \n",
        "        elif algo_type == KL_UCB:\n",
        "            regret_array[i], count_array[i] = KL_UCB_algo(K, horizon, arm_means)\n",
        "        elif algo_type == TS:\n",
        "            regret_array[i], count_array[i] = thompson(K, horizon, arm_means)\n",
        "        else:\n",
        "            raise ValueError('Invalid algorithm type. Check again!')             \n",
        "\n",
        "    regret_array, count_array = np.array(regret_array), np.array(count_array)\n",
        "    regret_error = np.array(ss.t.ppf(0.95, df = runs -1)*ss.sem(regret_array, axis = 0))\n",
        "\n",
        "    return np.mean(regret_array, axis = 0), regret_error, np.mean(count_array, axis = 0)"
      ],
      "execution_count": 8,
      "outputs": []
    },
    {
      "cell_type": "markdown",
      "metadata": {
        "id": "TpheB6Ul94I6"
      },
      "source": [
        "### **Running the $\\epsilon$-greedy algorithm for the different choices of $\\epsilon$**\n",
        "We run the epsilon-greedy algorithm for all the given choices of $\\epsilon$ i.e. $\\{0.05, 0.1, 0.2 , 0.3, 0.4, 0.5, 0.7\\}$.\n",
        "- The average number of pulls of each arm over multiple runs is displayed\n",
        "- The regret plots are displayed for each choice of $\\epsilon$\n",
        "\n",
        "**Comments:** Intuitionally, we know that the best result would be obtained for the smallest choice of $\\epsilon$. The results are verified through the regret plot and we get the smallest regret for $\\epsilon = 0.05$"
      ]
    },
    {
      "cell_type": "code",
      "metadata": {
        "colab": {
          "base_uri": "https://localhost:8080/",
          "height": 767
        },
        "id": "htf1PGQrvMFx",
        "outputId": "0155f09d-13a9-436d-fa21-53337d9ff115"
      },
      "source": [
        "####################################\n",
        "## Parameters of the algorithm\n",
        "####################################\n",
        "horizon = 100000\n",
        "eps = [0.05, 0.1, 0.2 , 0.3, 0.4, 0.5, 0.7]\n",
        "K = 5\n",
        "arm_means = [0.4, 0.3, 0.5, 0.2, 0.1]\n",
        "runs = 50\n",
        "\n",
        "\n",
        "##########################################################\n",
        "## Running the algorithm for all the choices of epsilon\n",
        "##########################################################\n",
        "for i in range(len(eps)):\n",
        "    mean_regret_array_EPS, regret_error_EPS, avg_count = algo_over_runs(runs, EPS, K, horizon, arm_means, eps[i])\n",
        "    plt.plot(mean_regret_array_EPS, label = f\"$\\epsilon$ = {eps[i]}\")\n",
        "    plt.fill_between(np.arange(horizon), mean_regret_array_EPS - regret_error_EPS, mean_regret_array_EPS + regret_error_EPS, alpha=0.3)\n",
        "    plt.xlabel(\"Horizon\")\n",
        "    plt.ylabel(\"Regret\")\n",
        "\n",
        "    print(f\"For epsilon = {eps[i]}:\")\n",
        "    print(f\"Average counts of each arm (L-R: arm1 - arm5): {avg_count}\")\n",
        "    print(f\"Average regret after algorithm runs till horizon: {mean_regret_array_EPS[-1]}\")\n",
        "    print(\"-------------------------------------------------------------------------------------------\")\n",
        "\n",
        "plt.title(f\"Regret Plot of $\\epsilon$-greedy algorithm (horizon = {horizon}, runs = {runs})\", fontweight = 'bold')\n",
        "plt.legend(title = \"For different $\\epsilon$\")\n",
        "plt.show()\n"
      ],
      "execution_count": 9,
      "outputs": [
        {
          "output_type": "stream",
          "text": [
            "For epsilon = 0.05:\n",
            "Average counts of each arm (L-R: arm1 - arm5): [ 1701.96  1005.78 95295.1    999.12   998.04]\n",
            "Average regret after algorithm runs till horizon: 1070.3039999999762\n",
            "-------------------------------------------------------------------------------------------\n",
            "For epsilon = 0.1:\n",
            "Average counts of each arm (L-R: arm1 - arm5): [ 2136.92  2034.72 91820.68  2003.64  2004.04]\n",
            "Average regret after algorithm runs till horizon: 2023.3440000000048\n",
            "-------------------------------------------------------------------------------------------\n",
            "For epsilon = 0.2:\n",
            "Average counts of each arm (L-R: arm1 - arm5): [ 4172.28  4040.1  83792.08  4004.22  3991.32]\n",
            "Average regret after algorithm runs till horizon: 4023.0419999999676\n",
            "-------------------------------------------------------------------------------------------\n",
            "For epsilon = 0.3:\n",
            "Average counts of each arm (L-R: arm1 - arm5): [ 6106.34  5998.84 75880.08  6021.88  5992.86]\n",
            "Average regret after algorithm runs till horizon: 6014.110000000007\n",
            "-------------------------------------------------------------------------------------------\n",
            "For epsilon = 0.4:\n",
            "Average counts of each arm (L-R: arm1 - arm5): [ 8094.62  8018.   67880.36  8016.58  7990.44]\n",
            "Average regret after algorithm runs till horizon: 8014.212000000011\n",
            "-------------------------------------------------------------------------------------------\n",
            "For epsilon = 0.5:\n",
            "Average counts of each arm (L-R: arm1 - arm5): [10040.92  9980.14 59984.52 10002.12  9992.3 ]\n",
            "Average regret after algorithm runs till horizon: 9997.675999999987\n",
            "-------------------------------------------------------------------------------------------\n",
            "For epsilon = 0.7:\n",
            "Average counts of each arm (L-R: arm1 - arm5): [14023.84 13998.92 43936.18 14024.92 14016.14]\n",
            "Average regret after algorithm runs till horizon: 14016.100000000011\n",
            "-------------------------------------------------------------------------------------------\n"
          ],
          "name": "stdout"
        },
        {
          "output_type": "display_data",
          "data": {
            "image/png": "[encoded data removed]",
            "text/plain": [
              "<Figure size 432x288 with 1 Axes>"
            ]
          },
          "metadata": {
            "tags": [],
            "needs_background": "light"
          }
        }
      ]
    },
    {
      "cell_type": "code",
      "metadata": {
        "id": "czjdpdhw8hcJ"
      },
      "source": [
        "###########################################\n",
        "## Parameters of the different algorithms\n",
        "###########################################\n",
        "horizon = 100000\n",
        "epsilon = 0.05\n",
        "arm_means = [0.4, 0.3, 0.5, 0.2, 0.1]\n",
        "K = 5\n",
        "runs = 50\n",
        "algo_types = [EPS, UCB, KL_UCB, TS]\n",
        "algo_names = [\"Eps-greedy\", \"UCB\", \"KL-UCB\", \"Thompson Sampling\"]"
      ],
      "execution_count": null,
      "outputs": []
    },
    {
      "cell_type": "markdown",
      "metadata": {
        "id": "uRBLW6QC_Qjs"
      },
      "source": [
        "### **Running the different algorithms for the specified parameters**\n",
        "We run the epsilon-greedy algorithm for $\\epsilon = 0.05$ since it gives the best result. The other algorithms are run for the above specified parameters\n",
        "- The average number of pulls of each arm over multiple runs is displayed\n",
        "- The regret plots are displayed over the horizon\n",
        "\n",
        "**Comments:** \n",
        "- The regret should be of the following order: **Thompson Sampling < KL-UCB < UCB < $\\epsilon$-greedy algorithm**\n",
        "- The regret plots obtained show the expected results and thus verify the validity of the algorithms. "
      ]
    },
    {
      "cell_type": "code",
      "metadata": {
        "colab": {
          "base_uri": "https://localhost:8080/",
          "height": 616
        },
        "id": "xdMcv9Yw48-5",
        "outputId": "f0e45af8-449a-4a6e-9002-a024c692ceb7"
      },
      "source": [
        "##########################################################\n",
        "## Running all the algorithms for the specified parameters\n",
        "##########################################################\n",
        "\n",
        "for j in range(len(algo_types)):\n",
        "    mean_regret_array, regret_error, avg_count = algo_over_runs(runs, algo_types[j], K, horizon, arm_means, epsilon)\n",
        "    plt.plot(mean_regret_array, label = f\"For algo = {algo_names[j]}\")\n",
        "    plt.fill_between(np.arange(horizon), mean_regret_array - regret_error, mean_regret_array + regret_error, alpha=0.3)\n",
        "    plt.xlabel(\"Horizon\")\n",
        "    plt.ylabel(\"Regret\")\n",
        "\n",
        "    print(f\"For algo type = {algo_names[j]}:\")\n",
        "    print(f\"Average counts of each arm (L-R: arm1 - arm5): {avg_count}\")\n",
        "    print(f\"Average regret after algorithm runs till horizon: {mean_regret_array[-1]}\")\n",
        "    print(\"-------------------------------------------------------------------------------------------\")\n",
        "print()\n",
        "\n",
        "plt.title(f\"Regret Plot of different algorithms (horizon = {horizon}, runs = {runs})\\n\", fontweight = 'bold')\n",
        "plt.legend(title = \"Algorithm type\")\n",
        "plt.show()"
      ],
      "execution_count": null,
      "outputs": [
        {
          "output_type": "stream",
          "text": [
            "For algo type = Eps-greedy:\n",
            "Average counts of each arm (L-R: arm1 - arm5): [ 1734.68  1019.7  95241.18  1006.24   998.2 ]\n",
            "Average regret after algorithm runs till horizon: 1078.5599999999895\n",
            "-------------------------------------------------------------------------------------------\n",
            "For algo type = UCB:\n",
            "Average counts of each arm (L-R: arm1 - arm5): [ 1739.28   486.06 97413.9    230.46   130.3 ]\n",
            "Average regret after algorithm runs till horizon: 392.3979999995687\n",
            "-------------------------------------------------------------------------------------------\n",
            "For algo type = KL-UCB:\n",
            "Average counts of each arm (L-R: arm1 - arm5): [7.966000e+02 2.064000e+02 9.885402e+04 9.460000e+01 4.838000e+01]\n",
            "Average regret after algorithm runs till horizon: 168.671999999798\n",
            "-------------------------------------------------------------------------------------------\n",
            "For algo type = Thompson Sampling:\n",
            "Average counts of each arm (L-R: arm1 - arm5): [3.216800e+02 9.050000e+01 9.952558e+04 3.862000e+01 2.362000e+01]\n",
            "Average regret after algorithm runs till horizon: 71.30199999994903\n",
            "-------------------------------------------------------------------------------------------\n",
            "\n"
          ],
          "name": "stdout"
        },
        {
          "output_type": "display_data",
          "data": {
            "image/png": "[encoded data removed]",
            "text/plain": [
              "<Figure size 432x288 with 1 Axes>"
            ]
          },
          "metadata": {
            "tags": [],
            "needs_background": "light"
          }
        }
      ]
    },
    {
      "cell_type": "code",
      "metadata": {
        "id": "GFwfOt63L_Yl"
      },
      "source": [
        ""
      ],
      "execution_count": null,
      "outputs": []
    }
  ]
}