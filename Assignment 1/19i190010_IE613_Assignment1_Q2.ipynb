{
  "nbformat": 4,
  "nbformat_minor": 0,
  "metadata": {
    "colab": {
      "name": "19i190010_IE613_Assignment1_Q2.ipynb",
      "provenance": [],
      "collapsed_sections": []
    },
    "kernelspec": {
      "name": "python3",
      "display_name": "Python 3"
    }
  },
  "cells": [
    {
      "cell_type": "markdown",
      "metadata": {
        "id": "kaU4rry4q5pj"
      },
      "source": [
        "# **Name:** Subhadeep Chaudhuri | **Roll no.** : 19i190010"
      ]
    },
    {
      "cell_type": "markdown",
      "metadata": {
        "id": "NJID1DUdbHWn"
      },
      "source": [
        "### **Question 2:** Bandit Setting\r\n",
        "\r\n",
        "Algorithms considered: EXP3, EXP3-P, EXP3-IX"
      ]
    },
    {
      "cell_type": "code",
      "metadata": {
        "id": "-QOXwV5odU8o"
      },
      "source": [
        "###########################################\r\n",
        "## Importing the necessary packages\r\n",
        "###########################################\r\n",
        "import numpy as np\r\n",
        "import pandas as pd\r\n",
        "import matplotlib.pyplot as plt\r\n",
        "import seaborn as sns\r\n",
        "sns.set_style('whitegrid')\r\n",
        "import scipy.stats as ss\r\n",
        "import copy\r\n",
        "from tqdm import tqdm"
      ],
      "execution_count": null,
      "outputs": []
    },
    {
      "cell_type": "code",
      "metadata": {
        "id": "tJz35BOQ66kn"
      },
      "source": [
        "###############################\r\n",
        "## Different algorithm types\r\n",
        "###############################\r\n",
        "EXP3 = 1\r\n",
        "EXP3_P = 2\r\n",
        "EXP3_IX = 3"
      ],
      "execution_count": null,
      "outputs": []
    },
    {
      "cell_type": "code",
      "metadata": {
        "id": "ywweTdFHvIfo"
      },
      "source": [
        "#############################################################################################\r\n",
        "## Method to compute the first term in the expression of pseudo-regret\r\n",
        "## Input: Horizon T, delta for the distribution, the arms selected in each round till time T\r\n",
        "#############################################################################################\r\n",
        "def mean_losses(T, delta, arms):\r\n",
        "    means_array_slot1 = [0.5 for _ in range(8)]\r\n",
        "    means_array_slot2 = copy.deepcopy(means_array_slot1)\r\n",
        "    means_array_slot1.extend([0.5-delta, 0.5+delta])\r\n",
        "    means_array_slot2.extend([0.5-delta, 0.5-2*delta])\r\n",
        "    \r\n",
        "    arms_slot_1 = arms[:int(len(arms)/2)]\r\n",
        "    arms_slot_2 = arms[int(len(arms)/2):]\r\n",
        "    \r\n",
        "    observed_means_slot1 = np.array([means_array_slot1[i] for i in arms_slot_1])\r\n",
        "    observed_means_slot2 = np.array([means_array_slot2[i] for i in arms_slot_2])\r\n",
        "    \r\n",
        "    return np.sum(observed_means_slot1) + np.sum(observed_means_slot2) \r\n"
      ],
      "execution_count": null,
      "outputs": []
    },
    {
      "cell_type": "markdown",
      "metadata": {
        "id": "rSgcWs2i3KDr"
      },
      "source": [
        "In this block, we define the main implementation. It is such that it computes the regret for all the 3 types of algorithms depending on an additional argument that states the algorithm type. \r\n",
        "\r\n",
        "- **Inputs to the algorithm:**\r\n",
        "> - Algorithm type: argument corresponding to EXP3, EXP3-P or EXP3-IX\r\n",
        "> - Horizon $T$, \r\n",
        "> - Number of arms $k$\r\n",
        "> - $\\Delta$ for specifying the probability distribution governing the losses\r\n",
        "> - $c$ which will be used to calculate the learning rate $\\eta = c\\sqrt{\\frac{2log(d)}{kT}}$\r\n",
        "\r\n",
        "- We create a loss matrix of shape $T \\times d$, where the $i^{th}$ row denotes the losses of the $k$ arms at time round $i$. We create the entire loss matrix at once to reduce complexity of the algorithm.\r\n",
        "- **Output:** Pseudo Regret of the algorithm, $R(T) = \\sum_{t=1}^{T}\\mu_t^{I_t} - \\min_{i}\\sum_{t=1}^{T}\\mu_t^{i}$ "
      ]
    },
    {
      "cell_type": "code",
      "metadata": {
        "id": "asG3Ju3-6R4R"
      },
      "source": [
        "################################################\r\n",
        "## Implementing the main algorithm\r\n",
        "## Algorithm choices: EXP3, EXP3_P, EXP3_IX\r\n",
        "################################################\r\n",
        "\r\n",
        "def algorithm(algo_type, T, k, delta, c):\r\n",
        "    \r\n",
        "    ## Creating a loss matrix of size (T x d)\r\n",
        "    ## i-th row denoting loss of all experts in i-th round \r\n",
        "    #######################################################\r\n",
        "    loss = np.zeros((T, k))\r\n",
        "    for i in range(T):\r\n",
        "        loss[i][0:-2] = np.random.binomial(n=1, p = 0.5, size = k-2)              ## For the first 8 arms \r\n",
        "        loss[i][-2] = np.random.binomial(n=1, p = 0.5-delta, size = 1)            ## For the 9-th arm\r\n",
        "        if i < T/2:\r\n",
        "            loss[i][-1] = np.random.binomial(n=1, p = 0.5+delta, size = 1)        ## For the 10-th arm when t <= T/2\r\n",
        "        else:\r\n",
        "            loss[i][-1] = np.random.binomial(n=1, p = 0.5-2*delta, size = 1)      ## For the 10-th arm when t > T/2\r\n",
        "    \r\n",
        "    ## Initializing and creating necessary variables\r\n",
        "    #######################################################\r\n",
        "    eta = c*np.sqrt(2*np.log(k)/(k*T))     ## Learning rate eta \r\n",
        "    total_loss = 0                         ## Variable to store total cost incurred throughout\r\n",
        "    L = np.zeros(k)                        ## Array to store L_hat. Gets updated in each round\r\n",
        "    arms = [i for i in range(k)]           ## List of indices corresponding to each of the K arms\r\n",
        "    chosen_arms = []                       ## List to store the arms selected in each round by the algorithm\r\n",
        "    if algo_type == EXP3_P:                ## Requirements for EXP3_P\r\n",
        "        gamma = k*eta  \r\n",
        "        beta = eta\r\n",
        "    elif algo_type == EXP3_IX:             ## Requirements for EXP3_IX\r\n",
        "        gamma = eta/2\r\n",
        "    \r\n",
        "    ## Iteration over time. Main loop of the algorithm\r\n",
        "    #######################################################\r\n",
        "    for t in range(T):\r\n",
        "        if algo_type == EXP3:                                  ############### Implementation for Exp3 algorithm ###############\r\n",
        "            l_t_hat = np.zeros(k)\r\n",
        "            p_t = np.divide(np.exp(-eta*L), np.sum(np.exp(-eta*L)))         ## Probability vector\r\n",
        "            I_t = np.random.choice(arms, p = p_t)                           ## Selection of arm I_t in round t w.ith associated probability P_t \r\n",
        "            l_t = loss[t][I_t]                                              ## Loss observed due to selection of arm I_t\r\n",
        "            total_loss += l_t                                               ## Summing up observed losses over rounds\r\n",
        "            l_t_hat[I_t] = l_t/p_t[I_t]\r\n",
        "            L += l_t_hat\r\n",
        "            chosen_arms.append(I_t)                                         ## Appending the chosen arm in round t\r\n",
        "        elif algo_type == EXP3_P:                            ################# Implementation for Exp3_P algorithm ###############\r\n",
        "            l_t_hat = np.zeros(k)\r\n",
        "            p_t = np.multiply((1-gamma),np.divide(np.exp(-eta*L), np.sum(np.exp(-eta*L)))) + (gamma/k)\r\n",
        "            I_t = np.random.choice(arms, p = p_t)\r\n",
        "            l_t = loss[t][I_t]\r\n",
        "            total_loss += l_t\r\n",
        "            l_t_hat[I_t] = (l_t + beta)/p_t[I_t]\r\n",
        "            L += l_t_hat\r\n",
        "            chosen_arms.append(I_t)\r\n",
        "        elif algo_type == EXP3_IX:                           ################# Implementation for Exp3_IX algorithm ###############\r\n",
        "            l_t_hat = np.zeros(k)\r\n",
        "            # p_t = np.multiply((1-gamma),np.divide(np.exp(-eta*L), np.sum(np.exp(-eta*L)))) \r\n",
        "            p_t = np.divide(np.exp(-eta*L), np.sum(np.exp(-eta*L)))\r\n",
        "            I_t = np.random.choice(arms, p = p_t)\r\n",
        "            l_t = loss[t][I_t]\r\n",
        "            total_loss += l_t\r\n",
        "            l_t_hat[I_t] = l_t /(p_t[I_t]+gamma)\r\n",
        "            L += l_t_hat\r\n",
        "            chosen_arms.append(I_t)\r\n",
        "\r\n",
        "    total_expected_loss = mean_losses(T, delta, chosen_arms)                                      ## Computes the first term in the definition of pseudo regret\r\n",
        "    best_arm_loss = np.min([T*0.5, T*(0.5-delta), ((T*(0.5+delta)/2)+(T*(0.5-(2*delta))/2))])     ## Computes the 2nd term in the definition of pseudo regret\r\n",
        "    \r\n",
        "    regret = total_expected_loss - best_arm_loss            ## Pseudo regret\r\n",
        "\r\n",
        "    return regret"
      ],
      "execution_count": null,
      "outputs": []
    },
    {
      "cell_type": "markdown",
      "metadata": {
        "id": "2rSgzAws4r1q"
      },
      "source": [
        "This method implements the desired algorithm over multiple runs. The regret obtained from each run of the algorithm are then stored in an array for further use."
      ]
    },
    {
      "cell_type": "code",
      "metadata": {
        "id": "sfiV9u_z_Fpy"
      },
      "source": [
        "##################################################################\r\n",
        "## Method to call the different algorithm over multiple runs\r\n",
        "## Algorithm choices: EXP3, EXP3_P, EXP3_IX\r\n",
        "##################################################################\r\n",
        "\r\n",
        "def algo_over_runs(runs, *args):\r\n",
        "\r\n",
        "    ## Checking the validity of the arguments required in weighted_majority algorithm\r\n",
        "    #################################################################################\r\n",
        "    if args is None:\r\n",
        "        err_msg = 'Arguments are missing. Check again!'\r\n",
        "        raise ValueError(err_msg)\r\n",
        "    elif len(args) < 5 :\r\n",
        "        err_msg = 'Minimum arguments not given. Check again!'\r\n",
        "        raise ValueError(err_msg)\r\n",
        "    else:\r\n",
        "        algo_type = args[0]\r\n",
        "        T = args[1]\r\n",
        "        k = args[2]\r\n",
        "        delta = args[3]\r\n",
        "        c = args[4]\r\n",
        "\r\n",
        "    ## Storing the regret obtained for each run in an array\r\n",
        "    #######################################################\r\n",
        "    regret_array = np.zeros(runs)\r\n",
        "    for i in range(runs):\r\n",
        "        regret_array[i] = algorithm(algo_type, T, k, delta, c)     ## Looping over runs and storing the regret in each run\r\n",
        "    \r\n",
        "    return regret_array"
      ],
      "execution_count": null,
      "outputs": []
    },
    {
      "cell_type": "markdown",
      "metadata": {
        "id": "AZSkPsCQ46nF"
      },
      "source": [
        "This method is used to obtain the average regrets over multiple runs along with 95% confidence intervals for different choices of $c$ i.e. for different learning rates $\\eta$ corresponding to the desired algorithm type."
      ]
    },
    {
      "cell_type": "code",
      "metadata": {
        "id": "eQ7NLYxh_Var"
      },
      "source": [
        "###################################################################################\r\n",
        "## Method to store the mean regret for each choice of eta for the chosen algorithm \r\n",
        "## Algorithm choices: EXP3, EXP3_P, EXP3_IX\r\n",
        "###################################################################################\r\n",
        "\r\n",
        "def algo_over_all(runs, algo_type, T, k, delta, c_array):\r\n",
        "\r\n",
        "    ## Calculating the average regret over many runs for each eta\r\n",
        "    ## 95% CI are to be created. So we store the error terms as well\r\n",
        "    ##################################################################\r\n",
        "    mean_regret_array = []\r\n",
        "    regret_error = []\r\n",
        "    for i in tqdm(range(len(c_array))):                                              ## Looping over all the choices of c, i.e. different eta\r\n",
        "        regret_array_c =  algo_over_runs(runs, algo_type, T, k, delta, c_array[i])\r\n",
        "        mean_regret_array.append(np.mean(regret_array_c))                            ## Storing the mean regrets over multiple runs\r\n",
        "        regret_error.append(ss.t.ppf(0.95, df = runs -1)*ss.sem(regret_array_c))     ## Storing the standard error over multiple runs for the 95% CI\r\n",
        "\r\n",
        "    return np.array(mean_regret_array), np.array(regret_error)"
      ],
      "execution_count": null,
      "outputs": []
    },
    {
      "cell_type": "markdown",
      "metadata": {
        "id": "r68SRlwEAZgz"
      },
      "source": [
        "This method is used to obtain the plots showing the average regrets over multiple runs along with 95% confidence intervals for different choices of $c$ i.e. for different learning rates $\\eta$ corresponding to each of the algorithm types EXP3, EXP3.P and EXP3-IX.\r\n",
        "\r\n",
        "We call each of the algorithm types using \"algo_over_all\" and store it in some arrays, which are then plotted. "
      ]
    },
    {
      "cell_type": "code",
      "metadata": {
        "id": "VdV6P1-j_02C"
      },
      "source": [
        "###########################################################################################\r\n",
        "## Method to plot the 95% CIs of the average regrets for each algorithm for different eta\r\n",
        "###########################################################################################\r\n",
        "\r\n",
        "def main_plot_function(runs, *args):\r\n",
        "\r\n",
        "    ## Checking the validity of the arguments required in weighted_majority algorithm\r\n",
        "    #################################################################################\r\n",
        "    if args is None:\r\n",
        "        err_msg = 'No arguments given. Cannot plot!'\r\n",
        "        raise ValueError(err_msg)\r\n",
        "    elif len(args) < 4 :\r\n",
        "        err_msg = 'Insufficient arguments. Check again!'\r\n",
        "        raise ValueError(err_msg)\r\n",
        "    else:\r\n",
        "        T = args[0]\r\n",
        "        k = args[1]\r\n",
        "        delta = args[2]\r\n",
        "        c_array = args[3]\r\n",
        "\r\n",
        "    mean_regret_array_EXP3, regret_error_EXP3 = algo_over_all(runs, EXP3, T, k, delta, c_array)              ## Storing the mean regrets for EXP3 algo \r\n",
        "    mean_regret_array_EXP3_P,  regret_error_EXP3_P = algo_over_all(runs, EXP3_P, T, k, delta, c_array)       ## Storing the mean regrets for EXP3_P algo\r\n",
        "    mean_regret_array_EXP3_IX, regret_error_EXP3_IX = algo_over_all(runs, EXP3_IX, T, k, delta, c_array)     ## Storing the mean regrets for EXP3_IX algo\r\n",
        "\r\n",
        "    eta_array = c_array*np.sqrt(2*np.log(k)/(k*T))                                                           ## Eta array for all possible choices of c\r\n",
        "    \r\n",
        "    ## Plotting the regret for each eta along with the 95% CI\r\n",
        "    ###############################################################\r\n",
        "    plt.errorbar(eta_array, mean_regret_array_EXP3, regret_error_EXP3, marker = 'o', color = 'red', label = 'EXP3')\r\n",
        "    plt.fill_between(eta_array, mean_regret_array_EXP3 - regret_error_EXP3, mean_regret_array_EXP3 + regret_error_EXP3, color='red', alpha=0.1)\r\n",
        "    plt.title(f'Pseudo Regret Plot for Bandit Setting\\n (T = {T}, runs = {runs})', fontweight = 'bold')\r\n",
        "    plt.xlabel('Learning Rate ($\\eta$)')\r\n",
        "    plt.ylabel('(Pseudo) Regret')\r\n",
        "    plt.errorbar(eta_array, mean_regret_array_EXP3_P, regret_error_EXP3_P, marker = '*', color = 'blue', label = 'EXP3_P')\r\n",
        "    plt.fill_between(eta_array, mean_regret_array_EXP3_P - regret_error_EXP3_P, mean_regret_array_EXP3_P + regret_error_EXP3_P, color='blue', alpha=0.1)\r\n",
        "    plt.errorbar(eta_array, mean_regret_array_EXP3_IX, regret_error_EXP3_IX, marker = '+', color = 'green', label = 'EXP3_IX')\r\n",
        "    plt.fill_between(eta_array, mean_regret_array_EXP3_IX - regret_error_EXP3_IX, mean_regret_array_EXP3_IX + regret_error_EXP3_IX, color='green', alpha=0.1)\r\n",
        "    plt.legend(title = 'Algorithm')\r\n",
        "    plt.savefig('q2.png')\r\n",
        "    plt.show()\r\n",
        "    return [mean_regret_array_EXP3, mean_regret_array_EXP3_P, mean_regret_array_EXP3_IX], [regret_error_EXP3, regret_error_EXP3_P, regret_error_EXP3_IX]"
      ],
      "execution_count": null,
      "outputs": []
    },
    {
      "cell_type": "markdown",
      "metadata": {
        "id": "sR2p_Rq5AztC"
      },
      "source": [
        "These are the parameters of the problem, as given in the question. We average out the regret over 50 runs, with the horizon taken as $10^5$"
      ]
    },
    {
      "cell_type": "code",
      "metadata": {
        "id": "V8oqYeEs3CAw"
      },
      "source": [
        "###########################################\r\n",
        "## Parameters for the problem\r\n",
        "###########################################\r\n",
        "delta = 0.1  ## Parameter of distribution of loss for environment\r\n",
        "T = 100000   ## Horizon\r\n",
        "k = 10       ## No. of experts\r\n",
        "c_array = np.arange(0.1, 2.11, 0.2).astype(np.double).round(2)\r\n",
        "runs = 60    ## No. of runs"
      ],
      "execution_count": null,
      "outputs": []
    },
    {
      "cell_type": "code",
      "metadata": {
        "colab": {
          "base_uri": "https://localhost:8080/",
          "height": 364
        },
        "id": "K1UDBL8T255J",
        "outputId": "56a80d97-7316-4839-ff92-1f8cfe19c1c3"
      },
      "source": [
        "avg_regrets, bar_widths = main_plot_function(runs, T, k, delta, c_array)"
      ],
      "execution_count": null,
      "outputs": [
        {
          "output_type": "stream",
          "text": [
            "100%|██████████| 11/11 [1:12:05<00:00, 393.24s/it]\n",
            "100%|██████████| 11/11 [1:19:50<00:00, 435.53s/it]\n",
            "100%|██████████| 11/11 [1:11:30<00:00, 390.02s/it]\n"
          ],
          "name": "stderr"
        },
        {
          "output_type": "display_data",
          "data": {
            "image/png": "[encoded data removed]",
            "text/plain": [
              "<Figure size 432x288 with 1 Axes>"
            ]
          },
          "metadata": {
            "tags": [],
            "needs_background": "light"
          }
        }
      ]
    },
    {
      "cell_type": "code",
      "metadata": {
        "id": "6L3Q1DoWdkq-"
      },
      "source": [
        ""
      ],
      "execution_count": null,
      "outputs": []
    }
  ]
}