{
  "nbformat": 4,
  "nbformat_minor": 0,
  "metadata": {
    "colab": {
      "name": "19i190010_IE613_Assignment1_Q1.ipynb",
      "provenance": [],
      "collapsed_sections": []
    },
    "kernelspec": {
      "name": "python3",
      "display_name": "Python 3"
    }
  },
  "cells": [
    {
      "cell_type": "markdown",
      "metadata": {
        "id": "kaU4rry4q5pj"
      },
      "source": [
        "# **Name:** Subhadeep Chaudhuri | **Roll no.** : 19i190010"
      ]
    },
    {
      "cell_type": "markdown",
      "metadata": {
        "id": "NJID1DUdbHWn"
      },
      "source": [
        "### **Question 1:** Weighted Majority Algorithm\r\n"
      ]
    },
    {
      "cell_type": "code",
      "metadata": {
        "id": "-QOXwV5odU8o"
      },
      "source": [
        "###########################################\r\n",
        "## Importing the necessary packages\r\n",
        "###########################################\r\n",
        "import numpy as np\r\n",
        "import pandas as pd\r\n",
        "import matplotlib.pyplot as plt\r\n",
        "import seaborn as sns\r\n",
        "sns.set_style('whitegrid')\r\n",
        "import scipy.stats as ss\r\n",
        "from tqdm import tqdm"
      ],
      "execution_count": null,
      "outputs": []
    },
    {
      "cell_type": "markdown",
      "metadata": {
        "id": "rSgcWs2i3KDr"
      },
      "source": [
        "In this block, we define the main algorithm implementation. \r\n",
        "\r\n",
        "- **Inputs to the algorithm:**\r\n",
        "> - Horizon $T$, \r\n",
        "> - Number of experts $d$\r\n",
        "> - $\\Delta$ for specifying the probability distribution governing the losses\r\n",
        "> - $c$ which will be used to calculate the learning rate $\\eta = c\\sqrt{\\frac{2log(d)}{T}}$\r\n",
        "\r\n",
        "- We create a loss matrix of shape $T \\times d$, where the $i^{th}$ row denotes the losses of the $d$ experts at time round $i$. We create the entire loss matrix at once to reduce time complexity.\r\n",
        "- **Output:** Regret of the algorithm, $R(T)$ =  $\\sum_{t = 1}^{T} <w_t, V_t> - \\min_{i \\in [d]}\\sum_{t = 1}^{T}V_{ti}$"
      ]
    },
    {
      "cell_type": "code",
      "metadata": {
        "id": "29pKqQCEdwYZ"
      },
      "source": [
        "################################################\r\n",
        "## Implementing the weighted majority algorithm\r\n",
        "################################################\r\n",
        "\r\n",
        "def weighted_majority(T, d, delta, c):\r\n",
        "\r\n",
        "    ## Creating a loss matrix of size (T x d)\r\n",
        "    ## i-th row denoting loss of all experts in i-th round \r\n",
        "    #######################################################\r\n",
        "    loss = np.zeros((T, d))\r\n",
        "    for i in range(T):\r\n",
        "        loss[i][0:-2] = np.random.binomial(n=1, p = 0.5, size = d-2)              ## For the first 8 arms \r\n",
        "        loss[i][-2] = np.random.binomial(n=1, p = 0.5-delta, size = 1)            ## For the 9-th arm\r\n",
        "        if i <= T/2:\r\n",
        "            loss[i][-1] = np.random.binomial(n=1, p = 0.5+delta, size = 1)        ## For the 10-th arm when t <= T/2\r\n",
        "        else:\r\n",
        "            loss[i][-1] = np.random.binomial(n=1, p = 0.5-(2*delta), size = 1)    ## For the 10-th arm when t > T/2\r\n",
        "    \r\n",
        "    ## Initializing and creating necessary variables\r\n",
        "    #######################################################\r\n",
        "    w = np.ones(d)                         ## Weight vector initialized. W_1 = (1,1,...,1)\r\n",
        "    eta = c*np.sqrt(2*np.log(d)/T)         ## Learning rate eta\r\n",
        "    total_cost = 0                         ## Variable to store total cost incurred throughout\r\n",
        "\r\n",
        "    ## Iteration over time. Main loop of the algo\r\n",
        "    #######################################################\r\n",
        "    for i in range(T):\r\n",
        "        w_normalized = np.divide(w, np.sum(w))     ## Normalizing the weights vector\r\n",
        "        cost = np.dot(w_normalized, loss[i])       ## Cost incurred: <w_t, V_t>\r\n",
        "        total_cost += cost                         ## Adding up the cost to calculate cumulative cost over all rounds\r\n",
        "        w = np.multiply(w, np.exp(-eta*loss[i]))   ## Update step w_t+1 = w_t* exp(-eta*V_t)\r\n",
        "    \r\n",
        "    best_arm_loss = np.min(np.sum(loss, axis = 0)) ## Loss for the arm with minimum loss i.e. best action\r\n",
        "    regret = total_cost - best_arm_loss            ## sum(<w_t, V_t>) - min{over all arms i} sum(V_ti)\r\n",
        "\r\n",
        "    return regret\r\n"
      ],
      "execution_count": null,
      "outputs": []
    },
    {
      "cell_type": "markdown",
      "metadata": {
        "id": "2rSgzAws4r1q"
      },
      "source": [
        "This method implements the Weighted Majority algorithm over different runs. The regret obtained from each run of the algorithm are then stored in an array for further use."
      ]
    },
    {
      "cell_type": "code",
      "metadata": {
        "id": "S1q0OMopvaHR"
      },
      "source": [
        "#####################################################################\r\n",
        "## Method to call the weighted majority algorithm over multiple runs\r\n",
        "#####################################################################\r\n",
        "\r\n",
        "def WM_over_runs(runs, *args):\r\n",
        "\r\n",
        "    ## Checking the validity of the arguments required in weighted_majority algorithm\r\n",
        "    #################################################################################\r\n",
        "    if args is None:\r\n",
        "        err_msg = 'Arguments T, d, delta, c are missing!'\r\n",
        "        raise ValueError(err_msg)\r\n",
        "    elif len(args)< 4 :\r\n",
        "        err_msg = 'All arguments not given. Check again!'\r\n",
        "        raise ValueError(err_msg)\r\n",
        "    else:\r\n",
        "        T = args[0]\r\n",
        "        d = args[1]\r\n",
        "        delta = args[2]\r\n",
        "        c = args[3]\r\n",
        "    \r\n",
        "    ## Storing the regret obtained for each run in an array\r\n",
        "    #######################################################\r\n",
        "    regret_array = np.zeros(runs)\r\n",
        "    for i in range(runs):\r\n",
        "        regret_array[i] = weighted_majority(T, d, delta, c)     ## Looping over runs and storing the regret in each run\r\n",
        "    \r\n",
        "    return regret_array"
      ],
      "execution_count": null,
      "outputs": []
    },
    {
      "cell_type": "markdown",
      "metadata": {
        "id": "AZSkPsCQ46nF"
      },
      "source": [
        "This method is used to obtain the required plot showing the average regrets over multiple runs along with 95% confidence intervals for different choices of $c$ i.e. for different learning rates $\\eta$."
      ]
    },
    {
      "cell_type": "code",
      "metadata": {
        "id": "N7hAIDfNxtK4"
      },
      "source": [
        "###############################################################################\r\n",
        "## Method to plot the required results and store the mean regret for each eta\r\n",
        "###############################################################################\r\n",
        "\r\n",
        "def plot_function(runs, T, d, delta, c_array):\r\n",
        "\r\n",
        "    ## Calculating the average regret over multiple runs for each eta\r\n",
        "    ## 95% CI are to be created. So we store the error terms as well\r\n",
        "    ##################################################################\r\n",
        "    mean_regret_array = []\r\n",
        "    regret_error = []\r\n",
        "    for i in range(len(c_array)):\r\n",
        "        regret_array_c =  WM_over_runs(runs, T, d, delta, c_array[i])                ## Looping over all the choices of c, i.e. different eta \r\n",
        "        mean_regret_array.append(np.mean(regret_array_c))                            ## Storing the mean regrets over multiple runs\r\n",
        "        regret_error.append(ss.t.ppf(0.95, df = runs -1)*ss.sem(regret_array_c))     ## Storing the standard error over multiple runs for the 95% CI\r\n",
        "    mean_regret_array = np.array(mean_regret_array)                                  ## Converting to np.array datatype\r\n",
        "    regret_error = np.array(regret_error)                                            ## Converting to np.array datatype\r\n",
        "    eta_array = c_array*np.sqrt(2*np.log(d)/T)                                       ## Storing the eta values considered for different c\r\n",
        "\r\n",
        "    ## Plotting the regret for each eta along with the 95% CI\r\n",
        "    ###############################################################\r\n",
        "    plt.errorbar(eta_array, mean_regret_array, regret_error, marker = 'o', color = 'blue', label='Weighted_Majority')\r\n",
        "    plt.fill_between(eta_array, mean_regret_array - regret_error, mean_regret_array + regret_error, color='blue', alpha=0.2)\r\n",
        "    plt.title(f'Pseudo Regret Plot for Weighted Majority Algorithm\\n (T = {T}, runs = {runs})', fontweight = 'bold')\r\n",
        "    plt.xlabel('Learning Rate ($\\eta$)')\r\n",
        "    plt.ylabel('(Pseudo)Regret')\r\n",
        "    plt.show()\r\n",
        "    return mean_regret_array, regret_error"
      ],
      "execution_count": null,
      "outputs": []
    },
    {
      "cell_type": "code",
      "metadata": {
        "id": "zJht_3ibe3q1"
      },
      "source": [
        "###########################################\r\n",
        "## Parameters for the problem\r\n",
        "###########################################\r\n",
        "delta = 0.1           ## Parameter of distribution of loss for environment\r\n",
        "T = 100000            ## Horizon\r\n",
        "d = 10                ## No. of experts\r\n",
        "c_array = np.arange(0.1, 2.11, 0.2).astype(np.double).round(2)        ## Considered choices of c\r\n",
        "runs = 100            ## No. of runs"
      ],
      "execution_count": null,
      "outputs": []
    },
    {
      "cell_type": "code",
      "metadata": {
        "colab": {
          "base_uri": "https://localhost:8080/",
          "height": 314
        },
        "id": "SkKBjyNH1spJ",
        "outputId": "ea220455-37f3-49d9-94a5-196fcc5854e3"
      },
      "source": [
        "avg_regrets, bar_widths = plot_function(runs, T, d, delta, c_array)"
      ],
      "execution_count": null,
      "outputs": [
        {
          "output_type": "display_data",
          "data": {
            "image/png": "[encoded data removed]",
            "text/plain": [
              "<Figure size 432x288 with 1 Axes>"
            ]
          },
          "metadata": {
            "tags": [],
            "needs_background": "light"
          }
        }
      ]
    },
    {
      "cell_type": "code",
      "metadata": {
        "id": "HWZ1CgFmnDCV"
      },
      "source": [
        ""
      ],
      "execution_count": null,
      "outputs": []
    }
  ]
}